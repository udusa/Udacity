{
 "cells": [
  {
   "cell_type": "markdown",
   "metadata": {},
   "source": [
    "## The Estimation Project (C++)"
   ]
  },
  {
   "cell_type": "markdown",
   "metadata": {},
   "source": [
    "#### 1. Determine the standard deviation."
   ]
  },
  {
   "cell_type": "markdown",
   "metadata": {},
   "source": [
    "Simple python program with the use of Numpy : "
   ]
  },
  {
   "cell_type": "code",
   "execution_count": 1,
   "metadata": {},
   "outputs": [
    {
     "name": "stdout",
     "output_type": "stream",
     "text": [
      "GPS std :  0.713855910778\n",
      "ACCEL std :  0.512473221795\n"
     ]
    }
   ],
   "source": [
    "import numpy as np\n",
    "GPS = np.loadtxt('Graph1.txt',delimiter=',',skiprows=1).T\n",
    "ACCEL = np.loadtxt('Graph2.txt',delimiter=',',skiprows=1).T\n",
    "print('GPS std : ',np.std(GPS[1,:]))\n",
    "print('ACCEL std : ',np.std(ACCEL[1,:]))"
   ]
  },
  {
   "cell_type": "markdown",
   "metadata": {},
   "source": [
    "Result :\n",
    "![title](img/sensor_noise.png)"
   ]
  },
  {
   "cell_type": "markdown",
   "metadata": {},
   "source": [
    "#### 2. Implement a better rate gyro attitude integration scheme."
   ]
  },
  {
   "cell_type": "markdown",
   "metadata": {},
   "source": [
    "UpdateFromIMU() function was implemented as mentioned in the \"Estimation for Quadrotors\" documentation section 7.1.2 \"Nonlinear Complementary Filter\" :"
   ]
  },
  {
   "cell_type": "code",
   "execution_count": null,
   "metadata": {},
   "outputs": [],
   "source": [
    "Quaternion<float> qt = Quaternion<float>::FromEuler123_RPY(rollEst, pitchEst, ekfState(6));\n",
    "Quaternion<float> qt_bar = qt.IntegrateBodyRate(gyro, dtIMU);\n",
    "    \n",
    "float predictedPitch = qt_bar.Pitch();\n",
    "float predictedRoll = qt_bar.Roll();\n",
    "ekfState(6) = qt_bar.Yaw();"
   ]
  },
  {
   "cell_type": "markdown",
   "metadata": {},
   "source": [
    "Result : \n",
    "![title](img/imu_update.png)"
   ]
  },
  {
   "cell_type": "markdown",
   "metadata": {},
   "source": [
    " #### 3. prediction step for the estimator."
   ]
  },
  {
   "cell_type": "markdown",
   "metadata": {},
   "source": [
    "In this section three three function was implemented : PredictState(),GetRbgPrime() and Predict() : \n",
    "\n",
    "1.PredictState() - implements forwarding state by dt :"
   ]
  },
  {
   "cell_type": "code",
   "execution_count": null,
   "metadata": {},
   "outputs": [],
   "source": [
    "V3F acc_world = attitude.Rotate_BtoI(accel);\n",
    "predictedState(0) += predictedState(3)*dt;\n",
    "predictedState(1) += predictedState(4)*dt;\n",
    "predictedState(2) += predictedState(5)*dt;\n",
    "   \n",
    "predictedState(3) += acc_world.x*dt;\n",
    "predictedState(4) += acc_world.y*dt;\n",
    "predictedState(5) += (acc_world.z-CONST_GRAVITY)*dt;"
   ]
  },
  {
   "cell_type": "markdown",
   "metadata": {},
   "source": [
    "2.GetRbgPrime() - implemented according to the Jacobian matrix descibes the derivitive of the rotation matrix that rotates from body frame to the global frame. That derevitive described in \"Estimation for Quadrotors\" documentation section 7.2 :"
   ]
  },
  {
   "cell_type": "code",
   "execution_count": null,
   "metadata": {},
   "outputs": [],
   "source": [
    "float phi=roll,theta=pitch,psi=yaw;\n",
    "RbgPrime(0,0) = -cos(theta)*sin(psi);\n",
    "RbgPrime(0,1) = -sin(phi)*sin(theta)*sin(psi)-cos(phi)*cos(psi);\n",
    "RbgPrime(0,2) = -cos(phi)*sin(theta)*sin(psi)+sin(phi)*cos(psi);\n",
    "RbgPrime(1,0) = cos(theta)*cos(psi);\n",
    "RbgPrime(1,1) = sin(phi)*sin(theta)*cos(psi)-cos(phi)*sin(psi);\n",
    "RbgPrime(1,2) = cos(phi)*sin(theta)*cos(psi)+sin(phi)*sin(psi);"
   ]
  },
  {
   "cell_type": "markdown",
   "metadata": {},
   "source": [
    "3.Predict() - function updates the covarians as a part of the EKF sequence : "
   ]
  },
  {
   "cell_type": "code",
   "execution_count": null,
   "metadata": {},
   "outputs": [],
   "source": [
    "gPrime(0,3)=dt;gPrime(1,4)=dt;gPrime(2,5)=dt;\n",
    "float g_prime_3_6 = (RbgPrime(0,0)*accel.x+RbgPrime(0,1)*accel.y+RbgPrime(0,2)*accel.z)*dt;\n",
    "float g_prime_4_6 = (RbgPrime(1,0)*accel.x+RbgPrime(1,1)*accel.y+RbgPrime(1,2)*accel.z)*dt;\n",
    "gPrime(3,6)=g_prime_3_6;\n",
    "gPrime(4,6)=g_prime_4_6;\n",
    "    \n",
    "ekfCov = gPrime * ekfCov * gPrime.transpose() + Q;"
   ]
  },
  {
   "cell_type": "markdown",
   "metadata": {},
   "source": [
    "Result : \n",
    "\n",
    "Predict State :\n",
    "![title](img/predict_state.png)\n",
    "\n",
    "Predict Covariance : \n",
    "![title](img/predict_covarians.png)"
   ]
  },
  {
   "cell_type": "markdown",
   "metadata": {},
   "source": [
    "#### 4. Implement the magnetometer update.."
   ]
  },
  {
   "cell_type": "markdown",
   "metadata": {},
   "source": [
    "Here UpdateFromMag() function was implemented according to the documentation, section 7.3.2 and the EKF sequence :"
   ]
  },
  {
   "cell_type": "code",
   "execution_count": null,
   "metadata": {},
   "outputs": [],
   "source": [
    "hPrime(0,QUAD_EKF_NUM_STATES-1)=1;\n",
    "MatrixXf toInverse = hPrime * ekfCov * hPrime.transpose() + R_Mag;\n",
    "MatrixXf K = ekfCov * hPrime.transpose() * toInverse.inverse();\n",
    "    \n",
    "zFromX(0)=ekfState(6);\n",
    "zFromX(0) = zFromX(0) + (K*(z-zFromX))(6);"
   ]
  },
  {
   "cell_type": "markdown",
   "metadata": {},
   "source": [
    "Result :\n",
    "![title](img/mag_update.png)"
   ]
  },
  {
   "cell_type": "markdown",
   "metadata": {},
   "source": [
    "#### 5. Implement the GPS update."
   ]
  },
  {
   "cell_type": "markdown",
   "metadata": {},
   "source": [
    "Here UpdateFromGPS() function was implemented according to the documentation, section 7.3.1 and the EKF sequence :"
   ]
  },
  {
   "cell_type": "code",
   "execution_count": null,
   "metadata": {},
   "outputs": [],
   "source": [
    "for(int i=0;i<QUAD_EKF_NUM_STATES-1;i++){\n",
    "    zFromX(i)=ekfState(i);\n",
    "    hPrime(i,i)=1;\n",
    "}\n",
    "MatrixXf toInverse = hPrime * ekfCov * hPrime.transpose()+R_GPS;\n",
    "MatrixXf K = ekfCov * hPrime.transpose() * toInverse.inverse();\n",
    "    \n",
    "VectorXf res = K*(z-zFromX);\n",
    "for(int i=0;i<QUAD_EKF_NUM_STATES-1;i++){\n",
    "    ekfState(i)+=res(i);\n",
    "}"
   ]
  },
  {
   "cell_type": "markdown",
   "metadata": {},
   "source": [
    "Results :\n",
    "![title](img/gps_update.png)"
   ]
  }
 ],
 "metadata": {
  "kernelspec": {
   "display_name": "Python 3",
   "language": "python",
   "name": "python3"
  },
  "language_info": {
   "codemirror_mode": {
    "name": "ipython",
    "version": 3
   },
   "file_extension": ".py",
   "mimetype": "text/x-python",
   "name": "python",
   "nbconvert_exporter": "python",
   "pygments_lexer": "ipython3",
   "version": "3.6.3"
  }
 },
 "nbformat": 4,
 "nbformat_minor": 2
}
