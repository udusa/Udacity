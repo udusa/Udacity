{
 "cells": [
  {
   "cell_type": "markdown",
   "metadata": {},
   "source": [
    "# 3D Motion Planning - Project\n"
   ]
  },
  {
   "cell_type": "markdown",
   "metadata": {},
   "source": [
    "### 1. Compare planning_utils.py and motion_planning.py"
   ]
  },
  {
   "cell_type": "markdown",
   "metadata": {},
   "source": [
    "#### 1.1 . Compare planning_utils.py"
   ]
  },
  {
   "cell_type": "markdown",
   "metadata": {},
   "source": [
    "The planning_utils.py provides four function and one class :\n",
    "\n",
    "1. create_grid(data, drone_altitude, safety_distance) - That function get a list of vectors which contains the data about the environment [x,y,z,dx,dy,dz] of each collition object - \"data\" parameter. \"drone_altitude\" - parameter define how high the drone is flying. It define which collision object will be include in the created grid or not depending on the hight of the object in \"data\". \"safety_distance\" - parameter define how much area will be added to each collision object in \"data\" to avoid over close path planing. The function return a 2d grid that represents free collision space according to given arguments.\n",
    "    \n",
    "2. class Action(Enum) - That class define four movment ways on the grid.\n",
    "\n",
    "3. valid_actions(grid, current_node) - That function check return all posible moves on the grid relative to the given \"current_node\", it checks all the move defined in \"Action\" class.\n",
    "4. def a_star(grid, h, start, goal) - That function search on the given grid for the optimal(shortest in a sense of distance - it can be redefined) path from node \"start\" to \"goal\" node and uses the parameter \"h\" as an additional cost for optimum.\n",
    "5. def heuristic(position, goal_position) - That funtion define some heuristic parmeter(in that case distance) between node \"position\" and \"goal_position\" node.        "
   ]
  },
  {
   "cell_type": "markdown",
   "metadata": {},
   "source": [
    "#### 1.2 Compare motion_planning.py"
   ]
  },
  {
   "cell_type": "markdown",
   "metadata": {},
   "source": [
    "The motion_planning.py is very simmilar to previus version except of few additions :\n",
    "\n",
    "1. New state added \"PLANNING\"\n",
    "2. New transition method \"plan_path()\"\n",
    "3. \"send_waypoints()\" method that transfer the estimated path to the simulator.\n",
    "\n",
    "The new plan_path() method : \n",
    "1. Defines to parametes \"TARGET_ALTITUDE\" and \"SAFETY_DISTANCE\" used by \"a_start\" from planning_utils.py to find shortes path (as described above).\n",
    "2. Load the environment map ('colliders.csv') as \"data\" to create grid with \"create_grid\" function from planning_utils.py.\n",
    "3. \"create_grid\" also return \"north_offset\" and \"east_offset\" to relativly localize the drone on the grid.\n",
    "4. Defines to points \"grid_start\" and \"grid_goal\" to simulate simple path estimation with \"a_star\"\n",
    "5. Convert the found path to correct waypoints list and send it with \"send_waypoints()\" method. \n",
    "\n",
    "\"plan_path()\" method is called after ARMING and the execute the path mission.\n"
   ]
  },
  {
   "cell_type": "markdown",
   "metadata": {},
   "source": [
    "### 2 .Implementing Your Path Planning Algorithm"
   ]
  },
  {
   "cell_type": "markdown",
   "metadata": {},
   "source": [
    "#### 2.1 Extracting lat0 and lon0 \n",
    "Using \"open()\",\"readline()\" and \"split\" int python api :"
   ]
  },
  {
   "cell_type": "code",
   "execution_count": null,
   "metadata": {},
   "outputs": [],
   "source": [
    "filename = 'colliders.csv'\n",
    "line0 = open(filename).readlines()[0].replace(',','').split()\n",
    "# line0 = ['lat0', '37.792480', 'lon0', '-122.397450']\n",
    "lat0 = float(line0[1])\n",
    "lon0 = float(line0[3])\n",
    "print('lat0 {0}, lon0 {1}'.format(lat0,lon0))\n",
    "# TODO: set home position to (lat0, lon0, 0)\n",
    "self.set_home_position(lon0,lat0,0)"
   ]
  },
  {
   "cell_type": "markdown",
   "metadata": {},
   "source": [
    "#### 2.2 Retriving position in geodetic coordinates\n",
    "Using \"self.global_position\", \"self.global_home\" and corverting to local : "
   ]
  },
  {
   "cell_type": "code",
   "execution_count": null,
   "metadata": {},
   "outputs": [],
   "source": [
    "local_pos = global_to_local(self.global_position,self.global_home)\n",
    "print('local_pos {0}'.format(local_pos))"
   ]
  },
  {
   "cell_type": "markdown",
   "metadata": {},
   "source": [
    "output : local_pos [-0.18935215 -0.11324342  0.019     ]"
   ]
  },
  {
   "cell_type": "markdown",
   "metadata": {},
   "source": [
    "#### 2.3 Define START position\n",
    "Defining \"start_grid\" position by greating the grid with \"cread_grid\" and to get the east and north offsets.  \n",
    "I decided to represent the obsticle map as 3D voxels map, i modified the function from the quiz to include \"SAFETY_DISTANCE\" and create the voxel map with safety padding. Also i use another parameter \"voxel_size\" to squeeze the voxel map for better performance.\n",
    "\n",
    "Testing output : \n",
    "![title](img/voxel_map.png)\n",
    "\n",
    "\"start_grid\" define by offsetting \"local_pos\" by \"north_offset\" and \"east_offset\" and dividing by \"voxel_size\"."
   ]
  },
  {
   "cell_type": "code",
   "execution_count": null,
   "metadata": {},
   "outputs": [],
   "source": [
    "voxel_size = 10\n",
    "grid, north_offset, east_offset  = create_voxmap(data, voxel_size,SAFETY_DISTANCE)\n",
    "location_on_grid=[(local_pos[0] - north_offset),(local_pos[1] - east_offset)]\n",
    "grid_start = (int(location_on_grid[0]), int(location_on_grid[1]))\n",
    "start3d = tuple([int(x/voxel_size) for x in grid_start])+((TARGET_ALTITUDE/voxel_size),)"
   ]
  },
  {
   "cell_type": "markdown",
   "metadata": {},
   "source": [
    "#### 2.3 Define GOAL position\n",
    "Here i defined some \"tmp_maps_latlon\" to hold a lat,lon coordinate from any online map,\n",
    "then rearranged it to \"lonlatalt_goal\" and passed to \"global_to_local()\" to get grid relative position then agian offsetting by \"north_offset\",\"east_offset\" and dividing by \"voxel_size\" : "
   ]
  },
  {
   "cell_type": "code",
   "execution_count": null,
   "metadata": {},
   "outputs": [],
   "source": [
    "tmp_maps_latlon = [37.795659, -122.396507] #OVER BUILDING\n",
    "lonlatalt_goal = [tmp_maps_latlon[1], tmp_maps_latlon[0] , 0]\n",
    "goal_grid_offset=global_to_local(lonlatalt_goal,self.global_home)\n",
    "print('goal_grid_offset : {0}'.format(goal_grid_offset))\n",
    "grid_goal = (int(-north_offset+goal_grid_offset[0]),int(-east_offset+goal_grid_offset[1]))\n",
    "print('Local Start and Goal: ', grid_start, grid_goal)\n",
    "goal3d = tuple([int(x/voxel_size) for x in grid_goal])+((TARGET_ALTITUDE/voxel_size),)"
   ]
  },
  {
   "cell_type": "markdown",
   "metadata": {},
   "source": [
    "outputs : \n",
    "\n",
    "goal_grid_offset : [353.24471281  80.7500275    0.        ]\n",
    "\n",
    "Local Start and Goal:  (315, 444) (669, 525)"
   ]
  },
  {
   "cell_type": "markdown",
   "metadata": {},
   "source": [
    "#### 2.4 Writing search algorithm\n",
    "As i used 3D voxel map i implemented a 3D A* algorithm and defined the necessary \"ACTION\" class and \"valid_actions\" in such way that the drone will be able to move in (3*9)-1=26 ways in 3D.  Here 2d diagonal cost move where defined as np.sqrt(2) and diagonal move in 3D as np.sqrt(np.sqrt(2)+1)\n",
    "Here is the result on testing for two arbitary points(start and goal) - green path: \n",
    "![title](img/voxel_map_path.png)\n",
    "\n",
    "In \"motion_planning.py\" i excuted like : "
   ]
  },
  {
   "cell_type": "code",
   "execution_count": null,
   "metadata": {},
   "outputs": [],
   "source": [
    "path, _ = a_star(grid, heuristic, start3d, goal3d)"
   ]
  },
  {
   "cell_type": "markdown",
   "metadata": {},
   "source": [
    "#### 2.5 Collinearity check\n",
    "The collinearity check walks through all consecutive three p1,p2,p3 points in path and create new list appending p2 if p1,p2,p3 the determinate of 3x3 matrix that they represent is not less then some epsilon.\n",
    "The function called \"prune_path(path)\"\n",
    "\n",
    "prunning result : \n",
    "![title](img/full_path.png)\n",
    "![title](img/prune_path.png)"
   ]
  },
  {
   "cell_type": "code",
   "execution_count": null,
   "metadata": {},
   "outputs": [],
   "source": [
    "path = prune_path(path)\n",
    "\n",
    "waypoints = []\n",
    "for i,p in enumerate(path[1:len(path)-1]):\n",
    "    p1,p2,p3 = (path[i-1],path[i],path[i+1])\n",
    "    yaw_p3 = np.arctan2((p2[1]-p1[1]), (p2[0]-p1[0]))\n",
    "    waypoints.append([int(p[0]*voxel_size + north_offset),int(p[1]*voxel_size + east_offset), int(p[2]*voxel_size), yaw_p3])"
   ]
  },
  {
   "cell_type": "markdown",
   "metadata": {},
   "source": [
    "### 3. Running the code\n",
    "Results :\n",
    "![title](img/r0.png)\n",
    "![title](img/r1.png)\n",
    "![title](img/r2.png)\n",
    "![title](img/r3.png)\n"
   ]
  },
  {
   "cell_type": "markdown",
   "metadata": {},
   "source": [
    "### 4. Extra\n",
    "Spiral path were added to the end of the search path : "
   ]
  },
  {
   "cell_type": "code",
   "execution_count": null,
   "metadata": {},
   "outputs": [],
   "source": [
    "def spiral_path(start,radius=1,height=1,smoothness=16):\n",
    "    spiral = []\n",
    "    for t in np.linspace(0,np.pi*2,20):\n",
    "        x=radius*np.cos(smoothness*t)\n",
    "        y=radius*np.sin(smoothness*t)\n",
    "        z=t*height\n",
    "        x+=start[0]\n",
    "        y+=start[1]\n",
    "        z+=start[2]\n",
    "        spiral.append([x,y,z])\n",
    "    return spiral\n",
    "\n",
    "path.extend(spiral_path(path[len(path)-1]))"
   ]
  },
  {
   "cell_type": "markdown",
   "metadata": {},
   "source": [
    "results :\n",
    "![title](img/p0.png)\n",
    "![title](img/p1.png)\n",
    "![title](img/p2.png)\n",
    "![title](img/p3.png)"
   ]
  },
  {
   "cell_type": "code",
   "execution_count": null,
   "metadata": {},
   "outputs": [],
   "source": []
  }
 ],
 "metadata": {
  "kernelspec": {
   "display_name": "Python 3",
   "language": "python",
   "name": "python3"
  },
  "language_info": {
   "codemirror_mode": {
    "name": "ipython",
    "version": 3
   },
   "file_extension": ".py",
   "mimetype": "text/x-python",
   "name": "python",
   "nbconvert_exporter": "python",
   "pygments_lexer": "ipython3",
   "version": "3.6.3"
  }
 },
 "nbformat": 4,
 "nbformat_minor": 2
}
