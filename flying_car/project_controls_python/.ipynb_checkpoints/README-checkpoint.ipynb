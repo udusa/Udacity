{
 "cells": [
  {
   "cell_type": "markdown",
   "metadata": {},
   "source": [
    "# Control of a 3D Quadrotor - Project (python)\n"
   ]
  },
  {
   "cell_type": "markdown",
   "metadata": {},
   "source": [
    "### 1. controller.py method explanations"
   ]
  },
  {
   "cell_type": "markdown",
   "metadata": {},
   "source": [
    "#### 1.1 . yaw_control(self, yaw_cmd, yaw)"
   ]
  },
  {
   "cell_type": "markdown",
   "metadata": {},
   "source": [
    "Simple P controller : \n",
    "define an error in yaw, err=(yaw_cmd-yaw), and returns the proportion of that error."
   ]
  },
  {
   "cell_type": "markdown",
   "metadata": {},
   "source": [
    "#### 1.2 altitude_control(self, altitude_cmd, vertical_velocity_cmd, altitude, vertical_velocity, attitude, acceleration_ff=0.0)"
   ]
  },
  {
   "cell_type": "markdown",
   "metadata": {},
   "source": [
    "Altitude is controlled by a PD controller with respect vehicle attitude and defined as : \n",
    "<br><br>\n",
    "$$\\bar{u}_1 = k_{p-z}(z_{t} - z_{a}) + k_{d-z}(\\dot{z}_{t} - \\dot{z}_{a}) + \\ddot{z}_t$$\n",
    "<br>\n",
    "$$thrust = MASS\\cdot(\\bar{u}_1-g)/b^z$$ \n",
    "<br>\n",
    "where $z$ is altitude, $\\dot{z}$ is vertical velocity, $\\ddot{z}$ is acceleration and $k_{p-z}$ and $k_{d-z}$ is PD constans. $b^z$ is the [3,3] element of the rotation matrix that represent drones attitude."
   ]
  },
  {
   "cell_type": "markdown",
   "metadata": {},
   "source": [
    "#### 1.3 body_rate_control(self, body_rate_cmd, body_rate)"
   ]
  },
  {
   "cell_type": "markdown",
   "metadata": {},
   "source": [
    "Body rates determine the yaw,pitch,roll rotation speed in the body frame, and controlled by a P controller : \n",
    "<br>\n",
    "$p_{bodyrate}\\cdot$ (body_rate_cmd - body_rate)\n"
   ]
  },
  {
   "cell_type": "markdown",
   "metadata": {},
   "source": [
    "#### 1.4 roll_pitch_controller(self, acceleration_cmd, attitude, thrust_cmd)"
   ]
  },
  {
   "cell_type": "markdown",
   "metadata": {},
   "source": [
    "The most complex PD controller that uses acceleration in world frame and produce a desired roll,pitch rates in the body frame : \n",
    "<br><br>\n",
    "$$b^x_c = \\frac{acceleration_x\\cdot mass}{-thrust}$$\n",
    "\n",
    "$$b^y_c = \\frac{acceleration_y\\cdot mass}{-thrust}$$\n",
    "<br>\n",
    "$$\\dot{b}^x_c  = k_p(b^x_c - b^x_a)$$\n",
    "\n",
    "$$\\dot{b}^y_c  = k_p(b^y_c - b^y_a)$$\n",
    "\n",
    "where $b^x_a = R_{13}$ and $b^y_a = R_{23}$, $R$ is the rotation matrix. The given values can be converted into the angular velocities into the body frame by the next matrix multiplication. \n",
    "\n",
    "$$\n",
    "\\begin{pmatrix} roll \\\\ pitch \\\\ \\end{pmatrix}  = \\frac{1}{R_{33}}\\begin{pmatrix} R_{21} & -R_{11} \\\\ R_{22} & -R_{12} \\end{pmatrix} \\times \\begin{pmatrix} \\dot{b}^x_c \\\\ \\dot{b}^y_c  \\end{pmatrix} \n",
    "$$"
   ]
  },
  {
   "cell_type": "markdown",
   "metadata": {},
   "source": [
    "#### 1.5 lateral_position_control(self, local_position_cmd, local_velocity_cmd, local_position, local_velocity,acceleration_ff = np.array([0.0, 0.0]))"
   ]
  },
  {
   "cell_type": "markdown",
   "metadata": {},
   "source": [
    "Lateral posiotn controller is a PD controller that use desired position and velocity to produce desired acceleration : \n",
    "<br><br>\n",
    "$$\n",
    "\\begin{align}\n",
    "\\ddot{x}_{\\text{command}} &=  c b^x_c \\\\\n",
    "\\ddot{x}_{\\text{command}} &=  k^x_p(x_t-x_a) + k_d^x(\\dot{x}_t - \\dot{x}_a)+ \\ddot{x}_t \\\\\n",
    "b^x_c &= \\ddot{x}_{\\text{command}}/c\n",
    "\\end{align}\n",
    "$$"
   ]
  },
  {
   "cell_type": "markdown",
   "metadata": {},
   "source": [
    "### 2 .Results"
   ]
  },
  {
   "cell_type": "markdown",
   "metadata": {},
   "source": [
    "### Horizontal trajectory :\n",
    "<img src=\"img/horizontal_trajectory.png\" width=\"600\">\n",
    "### Horizontal error : \n",
    "<img src=\"img/horizontal_err.png\" width=\"600\">\n",
    "### Vertical trajectory : \n",
    "<img src=\"img/vertical_trajectory.png\" width=\"600\">\n",
    "### Vertical error : \n",
    "<img src=\"img/vertical_err.png\" width=\"600\">\n",
    "### 3D trajectory : \n",
    "<img src=\"img/3d_trajectory.png\" width=\"600\">\n",
    "### Console result : \n",
    "<img src=\"img/console_result.png\" width=\"600\">"
   ]
  },
  {
   "cell_type": "code",
   "execution_count": null,
   "metadata": {},
   "outputs": [],
   "source": []
  }
 ],
 "metadata": {
  "kernelspec": {
   "display_name": "Python 3",
   "language": "python",
   "name": "python3"
  },
  "language_info": {
   "codemirror_mode": {
    "name": "ipython",
    "version": 3
   },
   "file_extension": ".py",
   "mimetype": "text/x-python",
   "name": "python",
   "nbconvert_exporter": "python",
   "pygments_lexer": "ipython3",
   "version": "3.6.4"
  }
 },
 "nbformat": 4,
 "nbformat_minor": 2
}
