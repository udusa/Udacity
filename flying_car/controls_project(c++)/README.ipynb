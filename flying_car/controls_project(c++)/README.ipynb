{
 "cells": [
  {
   "cell_type": "markdown",
   "metadata": {},
   "source": [
    "## Control of a 3D Quadrotor - Project (C++)"
   ]
  },
  {
   "cell_type": "markdown",
   "metadata": {},
   "source": [
    "#### 1. Implemented body rate control in python and C++."
   ]
  },
  {
   "cell_type": "markdown",
   "metadata": {},
   "source": [
    "Proportional controller that gets desired and current body frame roll,pitch,yaw rate vector : prqCMD and prq respectivll. The controller defines an err = prqCMD-prq then multiplie by the moments of inertia coefitions : err*=MOI to convert it to moments and then scale by kpPQR control gain. "
   ]
  },
  {
   "cell_type": "markdown",
   "metadata": {},
   "source": [
    "#### 2. Implement roll pitch control in python and C++."
   ]
  },
  {
   "cell_type": "markdown",
   "metadata": {},
   "source": [
    "Most complicalicated PD controller that takes desired acceleration, current attitude and commanded thrust and return a desired pitch,roll rates in the body frame.\n",
    "\n",
    "The desired rate is set as follows : b_targe = -(acceleration/drone_mass)\n",
    "\n",
    "Then the error defined as : err = b_target - [R(0,2),R(1,2),0], where R describe the rotation matrix of the vehicle.\n",
    "\n",
    "The error is scaled by kpBank : err*=kpBank, and rotate by the a sub rotation matrix to rotate from world frame to body frame, thats defined as : \n",
    "\n",
    "    world_to_frame = \n",
    "    |R(1,0)/R(2,2) ,-R(0,0)/R(2,2)|\n",
    "    |R(1,1)/R(2,2) ,-R(0,1)/R(2,2)|\n"
   ]
  },
  {
   "cell_type": "markdown",
   "metadata": {},
   "source": [
    " #### 3. Implement altitude controller in C++."
   ]
  },
  {
   "cell_type": "markdown",
   "metadata": {},
   "source": [
    "The altitude controller is a PID controller, that takes commanded and current Z,Z velocity, feedforward Z acceleration with an attidute parmeter and a dt parameter.\n",
    "\n",
    "The velocity parmeter is constrain by its max value.\n",
    "\n",
    "The erros defined as follow : \n",
    "1. err_pos = Z_cmd - Z\n",
    "2. err_vel = Z_vel_cmd - Z_vel\n",
    "3. integral = err_pos*dt\n",
    "\n",
    "The thrust is defined : thrust = err_pos * kpZ + err_vel * kpZvel + Z_feedforward + kpZi * integral.\n",
    "\n",
    "Here the thrust is compensated by the rotation and converted to force: thrust = drone_mass * (9.81-thrust) / R(2,2), where R is the rotation matrix of the vehicle.\n",
    "\n",
    "\n"
   ]
  },
  {
   "cell_type": "markdown",
   "metadata": {},
   "source": [
    "#### 4. Implement lateral position control in python and C++."
   ]
  },
  {
   "cell_type": "markdown",
   "metadata": {},
   "source": [
    "PD controller the takes : horizontal desired and current position and velocity with a feedforward acceleration.\n",
    "\n",
    "Both horizontal velocity and return desired acceleration is constrained by min and max values.\n",
    "\n",
    "The errors defined as : \n",
    "1. err_pos = pos_cmd - pos\n",
    "2. err_vel = vel_cmd - vel\n",
    "\n",
    "accel_cmd = err_pos*kpPosXY + err_vel*kpVelXY\n",
    "\n"
   ]
  },
  {
   "cell_type": "markdown",
   "metadata": {},
   "source": [
    "#### 5. Implement yaw control in python and C++."
   ]
  },
  {
   "cell_type": "markdown",
   "metadata": {},
   "source": [
    "Simples P controller that returns desired yaw rate that defined by a proportion on an error between the commanded yaw and the current yaw.\n",
    "\n",
    "desired_yaw = (yaw_cmd - yaw) * kpYaw. "
   ]
  },
  {
   "cell_type": "markdown",
   "metadata": {},
   "source": [
    "#### 5. Implement calculating the motor commands given commanded thrust and moments in C++."
   ]
  },
  {
   "cell_type": "markdown",
   "metadata": {},
   "source": [
    "Defining motors command with a given total_thrust and a desired moments.\n",
    "The moments around the axis calculated as : \n",
    "1. x = moment_cmd.x / L\n",
    "2. y = moment_cmd.y / L\n",
    "3. z = moment_cmd.z / kappa\n",
    "where 'L' is the length between the center of the vehicle and a motor and 'kappa' is a ratio 'torque/thrust' of the motor.\n",
    "\n",
    "Now to find the relevant motors command the following equation need to be solved : \n",
    "\n",
    "     |1 ,1,1, 1| |f0|  |total_thrust|\n",
    "     |1,-1,1,-1|*|f1| =|     x      |\n",
    "     |1,1,-1,-1| |f2|  |     y      |\n",
    "     |-1,1,1,-1| |f3|  |     z      |\n",
    "     \n",
    "Here f0,f1,f2,f3 is the commands that should be set to the motors.\n"
   ]
  },
  {
   "cell_type": "markdown",
   "metadata": {},
   "source": [
    "## Results :"
   ]
  },
  {
   "cell_type": "markdown",
   "metadata": {},
   "source": [
    "Senario 4 sesseion :\n",
    "![title](img/sen4_2.png)\n",
    "![title](img/sen4_1.png)\n",
    "\n",
    "Console log :\n",
    "![title](img/cons4.png)"
   ]
  },
  {
   "cell_type": "code",
   "execution_count": null,
   "metadata": {},
   "outputs": [],
   "source": []
  }
 ],
 "metadata": {
  "kernelspec": {
   "display_name": "Python 3",
   "language": "python",
   "name": "python3"
  },
  "language_info": {
   "codemirror_mode": {
    "name": "ipython",
    "version": 3
   },
   "file_extension": ".py",
   "mimetype": "text/x-python",
   "name": "python",
   "nbconvert_exporter": "python",
   "pygments_lexer": "ipython3",
   "version": "3.6.4"
  }
 },
 "nbformat": 4,
 "nbformat_minor": 2
}
