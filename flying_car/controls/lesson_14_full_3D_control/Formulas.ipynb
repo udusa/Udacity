{
 "cells": [
  {
   "cell_type": "markdown",
   "metadata": {},
   "source": [
    "## Formulas : \n",
    "\n",
    "#### Terms : \n",
    "1. Translational Equilibrium - the object is not experiencing any translational acceleration. (translation is any none rotational motion).\n",
    "2. Force - Newtons.\n",
    "3. Mass - Kg.\n",
    "4. Acceleration - $\\frac{m}{s^2}$.\n",
    "5. Moment = Torque. - A moment around an axis will cause a rotational acceleration on that axis.\n",
    "\n",
    "#### Forces : \n",
    "1. Force : F = ma - ( F = force, m = mass, a = acceleration )\n",
    "2. Motor force : F = $k_f\\cdot\\omega^2$ - ( F - force, $k_f$ motor/prop coef, $\\omega$ rotation rate $\\frac{rad}{s}$. )\n",
    "\n",
    "###### Denotes : \n",
    "1. Force in $z$ axis : $F_z = m\\cdot\\ddot{z}$ - ( $\\ddot{z}$ - $z$ axis second derevitive. )\n",
    "\n",
    "\n",
    "#### Moments : \n",
    "1. Motor moment : M = $k_m\\cdot\\omega^2$ - ( M - moment, $k_m$ motor/prop coef, $\\omega$ rotation rate $\\frac{rad}{s}$. )\n",
    "2. Torque : $\\tau = I\\cdot\\alpha$ - ( $\\tau$ NET torque around an axis, $I$ Moment of inertia, $\\alpha$ angular acceleration $\\frac{rad}{s^2}$. )\n",
    "3. Torque : $\\tau = F\\cdot l$ - ($F$ - Force, $l$ - Distance)\n",
    "\n",
    "###### Denotes : \n",
    "1. Moment on yaw ( $\\psi$ ): $M_z = I_z\\cdot\\ddot{\\psi}$\n",
    "\n"
   ]
  },
  {
   "cell_type": "code",
   "execution_count": null,
   "metadata": {},
   "outputs": [],
   "source": []
  }
 ],
 "metadata": {
  "kernelspec": {
   "display_name": "Python 3",
   "language": "python",
   "name": "python3"
  },
  "language_info": {
   "codemirror_mode": {
    "name": "ipython",
    "version": 3
   },
   "file_extension": ".py",
   "mimetype": "text/x-python",
   "name": "python",
   "nbconvert_exporter": "python",
   "pygments_lexer": "ipython3",
   "version": "3.6.4"
  }
 },
 "nbformat": 4,
 "nbformat_minor": 2
}
